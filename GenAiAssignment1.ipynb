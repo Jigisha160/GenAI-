{
  "nbformat": 4,
  "nbformat_minor": 0,
  "metadata": {
    "colab": {
      "provenance": [],
      "authorship_tag": "ABX9TyN+/zhZ6pl7YelSkrctuiLZ",
      "include_colab_link": true
    },
    "kernelspec": {
      "name": "python3",
      "display_name": "Python 3"
    },
    "language_info": {
      "name": "python"
    }
  },
  "cells": [
    {
      "cell_type": "markdown",
      "metadata": {
        "id": "view-in-github",
        "colab_type": "text"
      },
      "source": [
        "<a href=\"https://colab.research.google.com/github/Jigisha160/GenAI-/blob/main/GenAiAssignment1.ipynb\" target=\"_parent\"><img src=\"https://colab.research.google.com/assets/colab-badge.svg\" alt=\"Open In Colab\"/></a>"
      ]
    },
    {
      "cell_type": "code",
      "execution_count": 6,
      "metadata": {
        "colab": {
          "base_uri": "https://localhost:8080/"
        },
        "id": "H5xJ9gO7GZHB",
        "outputId": "7f785aab-e023-48b9-f00f-fc2f080878db"
      },
      "outputs": [
        {
          "output_type": "stream",
          "name": "stdout",
          "text": [
            "The classification for 12543 is P\n",
            "A\n",
            "D\n",
            "P\n",
            "V\n"
          ]
        }
      ],
      "source": [
        "def pairwise(n: int) -> list[tuple[str, str]]:\n",
        "    \"\"\"\n",
        "    Yields pairs of consecutive digits from the integer n as strings.\n",
        "    \"\"\"\n",
        "    digits = str(n)\n",
        "    for i in range(len(digits) - 1):\n",
        "        yield digits[i], digits[i + 1]\n",
        "\n",
        "def classify_number(number):\n",
        "    trend = None\n",
        "\n",
        "    for prev, curr in pairwise(number):\n",
        "        if prev < curr:\n",
        "            current_trend = \"ascending\"\n",
        "        elif prev > curr:\n",
        "            current_trend = \"descending\"\n",
        "        else:\n",
        "            return \"N\"  # Non-consecutive digits\n",
        "\n",
        "        if trend is None:\n",
        "            trend = current_trend\n",
        "        elif trend != current_trend:\n",
        "            if trend == \"ascending\" and current_trend == \"descending\":\n",
        "                return \"P\"  # Peak\n",
        "            elif trend == \"descending\" and current_trend == \"ascending\":\n",
        "                return \"V\"  # Valley\n",
        "            else:\n",
        "                return \"N\"  # Inconsistent pattern\n",
        "\n",
        "    return \"A\" if trend == \"ascending\" else \"D\"  # Overall trend\n",
        "\n",
        "# Example usage:\n",
        "number = 12543\n",
        "classification = classify_number(number)\n",
        "print(\"The classification for\", number, \"is\", classification)\n",
        "number = 12345 # Ascending\n",
        "print(classify_number(number)) # Output: A\n",
        "number = 54321 # Descending\n",
        "print(classify_number(number)) # Output: D\n",
        "number = 12321 # Peak\n",
        "print(classify_number(number)) # Output: P\n",
        "number = 32145 # Valley\n",
        "print(classify_number(number)) # Output: V"
      ]
    }
  ]
}